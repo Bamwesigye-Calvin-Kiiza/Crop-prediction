{
 "cells": [
  {
   "cell_type": "markdown",
   "id": "c6e5817e-e619-406d-867b-7a1d6b9a7210",
   "metadata": {},
   "source": [
    "# Crop prediction Model"
   ]
  },
  {
   "cell_type": "markdown",
   "id": "f951902e-db5b-4103-ba62-e2461103dd97",
   "metadata": {},
   "source": [
    "Imports neccessary "
   ]
  },
  {
   "cell_type": "code",
   "execution_count": 1,
   "id": "c677a9f8-6f5f-41fc-a860-aa40ddd8280f",
   "metadata": {},
   "outputs": [],
   "source": [
    "import numpy as np\n",
    "import pandas as pd \n",
    "import tensorflow as tf \n",
    "import matplotlib.pyplot as plt\n",
    "from sklearn import preprocessing \n",
    "from sklearn.preprocessing import StandardScaler\n",
    "import seaborn as  sb \n",
    "sb.set()"
   ]
  },
  {
   "cell_type": "markdown",
   "id": "28aff1ea-62fc-4dd2-924e-8b6517db1d2e",
   "metadata": {},
   "source": [
    "Dataset exploration"
   ]
  },
  {
   "cell_type": "code",
   "execution_count": 2,
   "id": "d82660a9-1746-4649-94af-1de27f5883b1",
   "metadata": {},
   "outputs": [
    {
     "data": {
      "text/html": [
       "<div>\n",
       "<style scoped>\n",
       "    .dataframe tbody tr th:only-of-type {\n",
       "        vertical-align: middle;\n",
       "    }\n",
       "\n",
       "    .dataframe tbody tr th {\n",
       "        vertical-align: top;\n",
       "    }\n",
       "\n",
       "    .dataframe thead th {\n",
       "        text-align: right;\n",
       "    }\n",
       "</style>\n",
       "<table border=\"1\" class=\"dataframe\">\n",
       "  <thead>\n",
       "    <tr style=\"text-align: right;\">\n",
       "      <th></th>\n",
       "      <th>Crop</th>\n",
       "      <th>N (mg/kg)</th>\n",
       "      <th>P (mg/kg)</th>\n",
       "      <th>K (mg/kg)</th>\n",
       "      <th>pH</th>\n",
       "      <th>EC(uS/cm)</th>\n",
       "      <th>MOISTURE (%)</th>\n",
       "    </tr>\n",
       "  </thead>\n",
       "  <tbody>\n",
       "    <tr>\n",
       "      <th>0</th>\n",
       "      <td>Cassava</td>\n",
       "      <td>150</td>\n",
       "      <td>50</td>\n",
       "      <td>100</td>\n",
       "      <td>5.5</td>\n",
       "      <td>1.5</td>\n",
       "      <td>60</td>\n",
       "    </tr>\n",
       "    <tr>\n",
       "      <th>1</th>\n",
       "      <td>Cassava</td>\n",
       "      <td>150</td>\n",
       "      <td>50</td>\n",
       "      <td>100</td>\n",
       "      <td>5.5</td>\n",
       "      <td>1.5</td>\n",
       "      <td>62</td>\n",
       "    </tr>\n",
       "    <tr>\n",
       "      <th>2</th>\n",
       "      <td>Cassava</td>\n",
       "      <td>150</td>\n",
       "      <td>50</td>\n",
       "      <td>100</td>\n",
       "      <td>5.5</td>\n",
       "      <td>1.5</td>\n",
       "      <td>64</td>\n",
       "    </tr>\n",
       "    <tr>\n",
       "      <th>3</th>\n",
       "      <td>Cassava</td>\n",
       "      <td>150</td>\n",
       "      <td>50</td>\n",
       "      <td>100</td>\n",
       "      <td>5.5</td>\n",
       "      <td>1.5</td>\n",
       "      <td>66</td>\n",
       "    </tr>\n",
       "    <tr>\n",
       "      <th>4</th>\n",
       "      <td>Cassava</td>\n",
       "      <td>150</td>\n",
       "      <td>50</td>\n",
       "      <td>100</td>\n",
       "      <td>5.5</td>\n",
       "      <td>1.5</td>\n",
       "      <td>68</td>\n",
       "    </tr>\n",
       "  </tbody>\n",
       "</table>\n",
       "</div>"
      ],
      "text/plain": [
       "      Crop  N (mg/kg)  P (mg/kg)  K (mg/kg)   pH  EC(uS/cm)  MOISTURE (%)\n",
       "0  Cassava        150         50        100  5.5        1.5            60\n",
       "1  Cassava        150         50        100  5.5        1.5            62\n",
       "2  Cassava        150         50        100  5.5        1.5            64\n",
       "3  Cassava        150         50        100  5.5        1.5            66\n",
       "4  Cassava        150         50        100  5.5        1.5            68"
      ]
     },
     "execution_count": 2,
     "metadata": {},
     "output_type": "execute_result"
    }
   ],
   "source": [
    "crop_data = pd.read_csv('crop_dataset.csv')\n",
    "crop_data.head()"
   ]
  },
  {
   "cell_type": "code",
   "execution_count": 3,
   "id": "dcef7829-2c79-41f8-abd5-1c680920a955",
   "metadata": {},
   "outputs": [
    {
     "data": {
      "text/plain": [
       "array(['Cassava', 'Vanilla', 'Coffee', 'Cotton ', 'Tea', 'Tobacco',\n",
       "       'Groundnuts', 'Yams', 'Maize (corn)', 'Beans', 'Irish Potato',\n",
       "       'Matooke', 'Sweet Banana', 'Sugarcane'], dtype=object)"
      ]
     },
     "execution_count": 3,
     "metadata": {},
     "output_type": "execute_result"
    }
   ],
   "source": [
    "crops = crop_data['Crop'].unique()\n",
    "crops"
   ]
  },
  {
   "cell_type": "code",
   "execution_count": 4,
   "id": "e0a625c7-79d2-4825-a4eb-04957f0f1a88",
   "metadata": {},
   "outputs": [
    {
     "data": {
      "text/plain": [
       "(37581648, 7)"
      ]
     },
     "execution_count": 4,
     "metadata": {},
     "output_type": "execute_result"
    }
   ],
   "source": [
    "crop_data.shape"
   ]
  },
  {
   "cell_type": "code",
   "execution_count": 5,
   "id": "d14cbecc-9ffb-4177-813c-afc16d8276aa",
   "metadata": {},
   "outputs": [
    {
     "data": {
      "text/html": [
       "<div>\n",
       "<style scoped>\n",
       "    .dataframe tbody tr th:only-of-type {\n",
       "        vertical-align: middle;\n",
       "    }\n",
       "\n",
       "    .dataframe tbody tr th {\n",
       "        vertical-align: top;\n",
       "    }\n",
       "\n",
       "    .dataframe thead th {\n",
       "        text-align: right;\n",
       "    }\n",
       "</style>\n",
       "<table border=\"1\" class=\"dataframe\">\n",
       "  <thead>\n",
       "    <tr style=\"text-align: right;\">\n",
       "      <th></th>\n",
       "      <th>Crop</th>\n",
       "      <th>N (mg/kg)</th>\n",
       "      <th>P (mg/kg)</th>\n",
       "      <th>K (mg/kg)</th>\n",
       "      <th>pH</th>\n",
       "      <th>EC(uS/cm)</th>\n",
       "      <th>MOISTURE (%)</th>\n",
       "    </tr>\n",
       "  </thead>\n",
       "  <tbody>\n",
       "    <tr>\n",
       "      <th>0</th>\n",
       "      <td>Cassava</td>\n",
       "      <td>150</td>\n",
       "      <td>50</td>\n",
       "      <td>100</td>\n",
       "      <td>5.5</td>\n",
       "      <td>1.5</td>\n",
       "      <td>60</td>\n",
       "    </tr>\n",
       "    <tr>\n",
       "      <th>1</th>\n",
       "      <td>Cassava</td>\n",
       "      <td>150</td>\n",
       "      <td>50</td>\n",
       "      <td>100</td>\n",
       "      <td>5.5</td>\n",
       "      <td>1.5</td>\n",
       "      <td>62</td>\n",
       "    </tr>\n",
       "    <tr>\n",
       "      <th>2</th>\n",
       "      <td>Cassava</td>\n",
       "      <td>150</td>\n",
       "      <td>50</td>\n",
       "      <td>100</td>\n",
       "      <td>5.5</td>\n",
       "      <td>1.5</td>\n",
       "      <td>64</td>\n",
       "    </tr>\n",
       "    <tr>\n",
       "      <th>3</th>\n",
       "      <td>Cassava</td>\n",
       "      <td>150</td>\n",
       "      <td>50</td>\n",
       "      <td>100</td>\n",
       "      <td>5.5</td>\n",
       "      <td>1.5</td>\n",
       "      <td>66</td>\n",
       "    </tr>\n",
       "    <tr>\n",
       "      <th>4</th>\n",
       "      <td>Cassava</td>\n",
       "      <td>150</td>\n",
       "      <td>50</td>\n",
       "      <td>100</td>\n",
       "      <td>5.5</td>\n",
       "      <td>1.5</td>\n",
       "      <td>68</td>\n",
       "    </tr>\n",
       "    <tr>\n",
       "      <th>...</th>\n",
       "      <td>...</td>\n",
       "      <td>...</td>\n",
       "      <td>...</td>\n",
       "      <td>...</td>\n",
       "      <td>...</td>\n",
       "      <td>...</td>\n",
       "      <td>...</td>\n",
       "    </tr>\n",
       "    <tr>\n",
       "      <th>37581643</th>\n",
       "      <td>Sugarcane</td>\n",
       "      <td>200</td>\n",
       "      <td>80</td>\n",
       "      <td>180</td>\n",
       "      <td>6.5</td>\n",
       "      <td>2.5</td>\n",
       "      <td>72</td>\n",
       "    </tr>\n",
       "    <tr>\n",
       "      <th>37581644</th>\n",
       "      <td>Sugarcane</td>\n",
       "      <td>200</td>\n",
       "      <td>80</td>\n",
       "      <td>180</td>\n",
       "      <td>6.5</td>\n",
       "      <td>2.5</td>\n",
       "      <td>74</td>\n",
       "    </tr>\n",
       "    <tr>\n",
       "      <th>37581645</th>\n",
       "      <td>Sugarcane</td>\n",
       "      <td>200</td>\n",
       "      <td>80</td>\n",
       "      <td>180</td>\n",
       "      <td>6.5</td>\n",
       "      <td>2.5</td>\n",
       "      <td>76</td>\n",
       "    </tr>\n",
       "    <tr>\n",
       "      <th>37581646</th>\n",
       "      <td>Sugarcane</td>\n",
       "      <td>200</td>\n",
       "      <td>80</td>\n",
       "      <td>180</td>\n",
       "      <td>6.5</td>\n",
       "      <td>2.5</td>\n",
       "      <td>78</td>\n",
       "    </tr>\n",
       "    <tr>\n",
       "      <th>37581647</th>\n",
       "      <td>Sugarcane</td>\n",
       "      <td>200</td>\n",
       "      <td>80</td>\n",
       "      <td>180</td>\n",
       "      <td>6.5</td>\n",
       "      <td>2.5</td>\n",
       "      <td>80</td>\n",
       "    </tr>\n",
       "  </tbody>\n",
       "</table>\n",
       "<p>37581648 rows × 7 columns</p>\n",
       "</div>"
      ],
      "text/plain": [
       "               Crop  N (mg/kg)  P (mg/kg)  K (mg/kg)   pH  EC(uS/cm)  \\\n",
       "0           Cassava        150         50        100  5.5        1.5   \n",
       "1           Cassava        150         50        100  5.5        1.5   \n",
       "2           Cassava        150         50        100  5.5        1.5   \n",
       "3           Cassava        150         50        100  5.5        1.5   \n",
       "4           Cassava        150         50        100  5.5        1.5   \n",
       "...             ...        ...        ...        ...  ...        ...   \n",
       "37581643  Sugarcane        200         80        180  6.5        2.5   \n",
       "37581644  Sugarcane        200         80        180  6.5        2.5   \n",
       "37581645  Sugarcane        200         80        180  6.5        2.5   \n",
       "37581646  Sugarcane        200         80        180  6.5        2.5   \n",
       "37581647  Sugarcane        200         80        180  6.5        2.5   \n",
       "\n",
       "          MOISTURE (%)  \n",
       "0                   60  \n",
       "1                   62  \n",
       "2                   64  \n",
       "3                   66  \n",
       "4                   68  \n",
       "...                ...  \n",
       "37581643            72  \n",
       "37581644            74  \n",
       "37581645            76  \n",
       "37581646            78  \n",
       "37581647            80  \n",
       "\n",
       "[37581648 rows x 7 columns]"
      ]
     },
     "execution_count": 5,
     "metadata": {},
     "output_type": "execute_result"
    }
   ],
   "source": [
    "crop_data.dropna()"
   ]
  },
  {
   "cell_type": "code",
   "execution_count": 6,
   "id": "67856483-2d08-47a4-923c-bffed3563bd3",
   "metadata": {},
   "outputs": [
    {
     "name": "stderr",
     "output_type": "stream",
     "text": [
      "H:\\Anaconda\\lib\\site-packages\\sklearn\\preprocessing\\_label.py:115: DataConversionWarning: A column-vector y was passed when a 1d array was expected. Please change the shape of y to (n_samples, ), for example using ravel().\n",
      "  y = column_or_1d(y, warn=True)\n"
     ]
    },
    {
     "data": {
      "text/plain": [
       "array([1, 1, 1, ..., 8, 8, 8])"
      ]
     },
     "execution_count": 6,
     "metadata": {},
     "output_type": "execute_result"
    }
   ],
   "source": [
    "from sklearn.preprocessing import LabelEncoder\n",
    "\n",
    "label_encoder = LabelEncoder()\n",
    "target = label_encoder.fit_transform(crop_data.iloc[:,:1])\n",
    "target"
   ]
  },
  {
   "cell_type": "code",
   "execution_count": 7,
   "id": "19f2ec81-c98b-46b9-8fb7-5af31f440321",
   "metadata": {},
   "outputs": [
    {
     "data": {
      "text/plain": [
       "(37581648, 7)"
      ]
     },
     "execution_count": 7,
     "metadata": {},
     "output_type": "execute_result"
    }
   ],
   "source": [
    "crop_data.shape"
   ]
  },
  {
   "cell_type": "code",
   "execution_count": 8,
   "id": "65a30075-ec16-474b-8860-dc11a55848c3",
   "metadata": {},
   "outputs": [
    {
     "data": {
      "text/html": [
       "<div>\n",
       "<style scoped>\n",
       "    .dataframe tbody tr th:only-of-type {\n",
       "        vertical-align: middle;\n",
       "    }\n",
       "\n",
       "    .dataframe tbody tr th {\n",
       "        vertical-align: top;\n",
       "    }\n",
       "\n",
       "    .dataframe thead th {\n",
       "        text-align: right;\n",
       "    }\n",
       "</style>\n",
       "<table border=\"1\" class=\"dataframe\">\n",
       "  <thead>\n",
       "    <tr style=\"text-align: right;\">\n",
       "      <th></th>\n",
       "      <th>N (mg/kg)</th>\n",
       "      <th>P (mg/kg)</th>\n",
       "      <th>K (mg/kg)</th>\n",
       "      <th>pH</th>\n",
       "      <th>EC(uS/cm)</th>\n",
       "      <th>MOISTURE (%)</th>\n",
       "    </tr>\n",
       "  </thead>\n",
       "  <tbody>\n",
       "    <tr>\n",
       "      <th>0</th>\n",
       "      <td>150</td>\n",
       "      <td>50</td>\n",
       "      <td>100</td>\n",
       "      <td>5.5</td>\n",
       "      <td>1.5</td>\n",
       "      <td>60</td>\n",
       "    </tr>\n",
       "    <tr>\n",
       "      <th>1</th>\n",
       "      <td>150</td>\n",
       "      <td>50</td>\n",
       "      <td>100</td>\n",
       "      <td>5.5</td>\n",
       "      <td>1.5</td>\n",
       "      <td>62</td>\n",
       "    </tr>\n",
       "    <tr>\n",
       "      <th>2</th>\n",
       "      <td>150</td>\n",
       "      <td>50</td>\n",
       "      <td>100</td>\n",
       "      <td>5.5</td>\n",
       "      <td>1.5</td>\n",
       "      <td>64</td>\n",
       "    </tr>\n",
       "    <tr>\n",
       "      <th>3</th>\n",
       "      <td>150</td>\n",
       "      <td>50</td>\n",
       "      <td>100</td>\n",
       "      <td>5.5</td>\n",
       "      <td>1.5</td>\n",
       "      <td>66</td>\n",
       "    </tr>\n",
       "    <tr>\n",
       "      <th>4</th>\n",
       "      <td>150</td>\n",
       "      <td>50</td>\n",
       "      <td>100</td>\n",
       "      <td>5.5</td>\n",
       "      <td>1.5</td>\n",
       "      <td>68</td>\n",
       "    </tr>\n",
       "    <tr>\n",
       "      <th>...</th>\n",
       "      <td>...</td>\n",
       "      <td>...</td>\n",
       "      <td>...</td>\n",
       "      <td>...</td>\n",
       "      <td>...</td>\n",
       "      <td>...</td>\n",
       "    </tr>\n",
       "    <tr>\n",
       "      <th>37581643</th>\n",
       "      <td>200</td>\n",
       "      <td>80</td>\n",
       "      <td>180</td>\n",
       "      <td>6.5</td>\n",
       "      <td>2.5</td>\n",
       "      <td>72</td>\n",
       "    </tr>\n",
       "    <tr>\n",
       "      <th>37581644</th>\n",
       "      <td>200</td>\n",
       "      <td>80</td>\n",
       "      <td>180</td>\n",
       "      <td>6.5</td>\n",
       "      <td>2.5</td>\n",
       "      <td>74</td>\n",
       "    </tr>\n",
       "    <tr>\n",
       "      <th>37581645</th>\n",
       "      <td>200</td>\n",
       "      <td>80</td>\n",
       "      <td>180</td>\n",
       "      <td>6.5</td>\n",
       "      <td>2.5</td>\n",
       "      <td>76</td>\n",
       "    </tr>\n",
       "    <tr>\n",
       "      <th>37581646</th>\n",
       "      <td>200</td>\n",
       "      <td>80</td>\n",
       "      <td>180</td>\n",
       "      <td>6.5</td>\n",
       "      <td>2.5</td>\n",
       "      <td>78</td>\n",
       "    </tr>\n",
       "    <tr>\n",
       "      <th>37581647</th>\n",
       "      <td>200</td>\n",
       "      <td>80</td>\n",
       "      <td>180</td>\n",
       "      <td>6.5</td>\n",
       "      <td>2.5</td>\n",
       "      <td>80</td>\n",
       "    </tr>\n",
       "  </tbody>\n",
       "</table>\n",
       "<p>37581648 rows × 6 columns</p>\n",
       "</div>"
      ],
      "text/plain": [
       "          N (mg/kg)  P (mg/kg)  K (mg/kg)   pH  EC(uS/cm)  MOISTURE (%)\n",
       "0               150         50        100  5.5        1.5            60\n",
       "1               150         50        100  5.5        1.5            62\n",
       "2               150         50        100  5.5        1.5            64\n",
       "3               150         50        100  5.5        1.5            66\n",
       "4               150         50        100  5.5        1.5            68\n",
       "...             ...        ...        ...  ...        ...           ...\n",
       "37581643        200         80        180  6.5        2.5            72\n",
       "37581644        200         80        180  6.5        2.5            74\n",
       "37581645        200         80        180  6.5        2.5            76\n",
       "37581646        200         80        180  6.5        2.5            78\n",
       "37581647        200         80        180  6.5        2.5            80\n",
       "\n",
       "[37581648 rows x 6 columns]"
      ]
     },
     "execution_count": 8,
     "metadata": {},
     "output_type": "execute_result"
    }
   ],
   "source": [
    "un_scaled_inputs = crop_data.iloc[:,1:]\n",
    "un_scaled_inputs"
   ]
  },
  {
   "cell_type": "code",
   "execution_count": 9,
   "id": "9be6dac5-49cd-4001-90e6-435bfc779009",
   "metadata": {},
   "outputs": [],
   "source": [
    "# target = crop_data.iloc[:,0]\n",
    "# target"
   ]
  },
  {
   "cell_type": "markdown",
   "id": "e16ed510-4f0e-44ca-8f3e-6f914efda996",
   "metadata": {},
   "source": [
    "scaling inputs "
   ]
  },
  {
   "cell_type": "code",
   "execution_count": 10,
   "id": "53df4d9c-ae87-40ca-820e-ad6a509a76c3",
   "metadata": {},
   "outputs": [
    {
     "data": {
      "text/plain": [
       "array([[-0.17131778, -0.6124411 , -1.63087258, -1.0566009 , -0.67650084,\n",
       "        -0.36091184],\n",
       "       [-0.17131778, -0.6124411 , -1.63087258, -1.0566009 , -0.67650084,\n",
       "        -0.24596734],\n",
       "       [-0.17131778, -0.6124411 , -1.63087258, -1.0566009 , -0.67650084,\n",
       "        -0.13102284],\n",
       "       ...,\n",
       "       [ 1.96016098,  1.47317381,  2.56785036,  0.84500193,  1.55786254,\n",
       "         0.55864417],\n",
       "       [ 1.96016098,  1.47317381,  2.56785036,  0.84500193,  1.55786254,\n",
       "         0.67358867],\n",
       "       [ 1.96016098,  1.47317381,  2.56785036,  0.84500193,  1.55786254,\n",
       "         0.78853317]])"
      ]
     },
     "execution_count": 10,
     "metadata": {},
     "output_type": "execute_result"
    }
   ],
   "source": [
    "scaler = StandardScaler()\n",
    "scaled_inputs = scaler.fit_transform(un_scaled_inputs)\n",
    "scaled_inputs"
   ]
  },
  {
   "cell_type": "code",
   "execution_count": 11,
   "id": "4c507f2c-7e8e-4300-8c5a-d1fea6ece542",
   "metadata": {},
   "outputs": [
    {
     "data": {
      "text/plain": [
       "array([ 7,  5, 10, ...,  7,  5, 12])"
      ]
     },
     "execution_count": 11,
     "metadata": {},
     "output_type": "execute_result"
    }
   ],
   "source": [
    "shuffled_indices = np.arange(scaled_inputs.shape[0])\n",
    "np.random.shuffle(shuffled_indices)\n",
    "\n",
    "shuffled_inputs = scaled_inputs[shuffled_indices]\n",
    "shuffled_targets = target[shuffled_indices]\n",
    "shuffled_targets"
   ]
  },
  {
   "cell_type": "code",
   "execution_count": 12,
   "id": "4261af36-00c5-4665-aea8-88f634113ddd",
   "metadata": {},
   "outputs": [
    {
     "name": "stdout",
     "output_type": "stream",
     "text": [
      "30065318 3758164 3758164\n"
     ]
    }
   ],
   "source": [
    "sample_count = shuffled_inputs.shape[0]\n",
    "\n",
    "training_count, validation_count,test_count = int(0.8*sample_count),int(0.1*sample_count),int(0.1*sample_count)\n",
    "print(training_count,validation_count,test_count)"
   ]
  },
  {
   "cell_type": "markdown",
   "id": "f887ab37-9a97-48ad-aec4-cacdc602852e",
   "metadata": {},
   "source": [
    "spliting the data"
   ]
  },
  {
   "cell_type": "code",
   "execution_count": 13,
   "id": "b13d1c68-5482-4c35-858c-f2aa672bebd0",
   "metadata": {},
   "outputs": [],
   "source": [
    "train_inputs,train_targets = shuffled_inputs[:training_count],shuffled_targets[:training_count]\n",
    "validation_input,validation_targets = shuffled_inputs[training_count:training_count+validation_count],shuffled_targets[training_count:training_count+validation_count]\n",
    "test_inputs,test_targets = shuffled_inputs[training_count+validation_count:],shuffled_targets[training_count+validation_count:]"
   ]
  },
  {
   "cell_type": "code",
   "execution_count": 14,
   "id": "f6e626fa-eae2-4824-908f-83c939309881",
   "metadata": {},
   "outputs": [],
   "source": [
    "np.savez('Train_data',inputs =train_inputs,targets = train_targets)\n",
    "np.savez('validation_data',inputs =validation_input,targets = validation_targets)\n",
    "np.savez('test_data',inputs =test_inputs,targets = test_targets)"
   ]
  },
  {
   "cell_type": "markdown",
   "id": "0ff27967-76c1-4a24-88b7-91112fb45346",
   "metadata": {},
   "source": [
    "loading the saved data"
   ]
  },
  {
   "cell_type": "code",
   "execution_count": 15,
   "id": "900e9401-f357-44d9-9f58-0c62aad361b3",
   "metadata": {},
   "outputs": [],
   "source": [
    "trainData = np.load('Train_data.npz',allow_pickle=True)\n",
    "train_inputs,train_targets = trainData['inputs'].astype(np.float64),trainData['targets']\n",
    "validation_data = np.load('validation_data.npz',allow_pickle=True)\n",
    "validation_inputs,validation_targets = validation_data['inputs'].astype(np.float64),validation_data['targets']\n",
    "test_data = np.load('test_data.npz',allow_pickle=True)\n",
    "test_inputs,test_targets = test_data['inputs'].astype(np.float64),test_data['targets']"
   ]
  },
  {
   "cell_type": "code",
   "execution_count": 17,
   "id": "5237c359-9860-487f-b3a0-a9c15991572a",
   "metadata": {},
   "outputs": [
    {
     "name": "stdout",
     "output_type": "stream",
     "text": [
      "[ 7  5 10 ...  1  5  3]\n",
      "['Matooke' 'Irish Potato' 'Tea' ... 'Cassava' 'Irish Potato' 'Cotton ']\n"
     ]
    }
   ],
   "source": [
    "print(train_targets)\n",
    "original_classes = label_encoder.inverse_transform(train_targets)\n",
    "print(original_classes)"
   ]
  },
  {
   "cell_type": "markdown",
   "id": "112ce566-438a-43c6-bbd9-e669cf80bfdd",
   "metadata": {},
   "source": [
    "## MODEL "
   ]
  },
  {
   "cell_type": "code",
   "execution_count": 83,
   "id": "1086c37e-660d-4316-922f-03439825dec8",
   "metadata": {},
   "outputs": [
    {
     "name": "stdout",
     "output_type": "stream",
     "text": [
      "Epoch 1/100\n",
      "300654/300654 [==============================] - 1585s 5ms/step - loss: 0.2975 - accuracy: 0.8086 - val_loss: 0.2840 - val_accuracy: 0.8127\n",
      "Epoch 2/100\n",
      "300654/300654 [==============================] - 1559s 5ms/step - loss: 0.2865 - accuracy: 0.8123 - val_loss: 0.2845 - val_accuracy: 0.8132\n"
     ]
    },
    {
     "data": {
      "text/plain": [
       "<keras.callbacks.History at 0x1b8e55f0d90>"
      ]
     },
     "execution_count": 83,
     "metadata": {},
     "output_type": "execute_result"
    }
   ],
   "source": [
    "input_size = 6 \n",
    "output_size = 14\n",
    "hidden_layer_size = 100\n",
    "\n",
    "model = tf.keras.Sequential([\n",
    "                             tf.keras.layers.Dense(hidden_layer_size, activation = 'relu'),\n",
    "                             tf.keras.layers.Dense(hidden_layer_size, activation = 'relu'),\n",
    "                             tf.keras.layers.Dense(hidden_layer_size, activation = 'relu'),\n",
    "                             tf.keras.layers.Dense(hidden_layer_size, activation = 'relu'),\n",
    "                             tf.keras.layers.Dense(hidden_layer_size, activation = 'relu'),\n",
    "                             tf.keras.layers.Dense(hidden_layer_size, activation = 'relu'),\n",
    "                             tf.keras.layers.Dense(hidden_layer_size, activation = 'softmax'),\n",
    "                            ])\n",
    "\n",
    "model.compile(optimizer = 'adam',loss = 'sparse_categorical_crossentropy', metrics = ['accuracy'])\n",
    "\n",
    "batch_size = 100\n",
    "num_epoches = 100\n",
    "early_stp = tf.keras.callbacks.EarlyStopping(patience =1)\n",
    "\n",
    "model.fit(train_inputs,\n",
    "         train_targets,\n",
    "         batch_size = batch_size,\n",
    "         epochs = num_epoches,\n",
    "          callbacks = [early_stp],\n",
    "         validation_data = (validation_inputs,validation_targets),\n",
    "         verbose = 1\n",
    "         )"
   ]
  },
  {
   "cell_type": "code",
   "execution_count": 96,
   "id": "9f7e2373-2277-4484-b8f8-6b48e44ca2ec",
   "metadata": {},
   "outputs": [],
   "source": [
    "test_loss, test_accuracy = model.evaluate(test_inputs,test_targets)"
   ]
  },
  {
   "cell_type": "code",
   "execution_count": 86,
   "id": "258c42cb-23ed-4c2a-a909-fa7027b78ee1",
   "metadata": {},
   "outputs": [
    {
     "name": "stdout",
     "output_type": "stream",
     "text": [
      "1/1 [==============================] - 0s 291ms/step\n"
     ]
    }
   ],
   "source": [
    "test_data = test_inputs[-1:,:]\n",
    "predictionns = model.predict(test_data)"
   ]
  },
  {
   "cell_type": "code",
   "execution_count": 87,
   "id": "166a2a33-3e35-43cc-a124-71be51622813",
   "metadata": {},
   "outputs": [
    {
     "name": "stdout",
     "output_type": "stream",
     "text": [
      "[[ 0.68127372 -0.75148209 -1.00106414 -0.67628034 -0.89993718  0.78853317]]\n"
     ]
    }
   ],
   "source": [
    "print(test_data)"
   ]
  },
  {
   "cell_type": "code",
   "execution_count": 88,
   "id": "b4498d18-58d6-4938-a102-f57a7b4354ad",
   "metadata": {},
   "outputs": [
    {
     "data": {
      "text/plain": [
       "array([[4.6537340e-30, 3.2309939e-16, 1.4212319e-04, 2.7417895e-35,\n",
       "        1.4281404e-14, 7.0095389e-06, 7.1124875e-24, 7.2324047e-17,\n",
       "        5.3601680e-18, 5.4361135e-17, 2.4302528e-06, 1.0457059e-31,\n",
       "        4.7603813e-01, 5.2381027e-01, 5.5783639e-21, 5.2168920e-21,\n",
       "        4.8162854e-21, 4.9331153e-21, 6.6303361e-21, 7.1007324e-21,\n",
       "        4.3288009e-21, 4.9745568e-21, 8.4701445e-21, 6.9606037e-21,\n",
       "        6.9104155e-21, 5.9974633e-21, 6.0965590e-21, 8.8629325e-21,\n",
       "        4.3601235e-21, 5.3024632e-21, 5.5044007e-21, 8.9371485e-21,\n",
       "        5.6323334e-21, 4.9054549e-21, 6.2658249e-21, 4.3290655e-21,\n",
       "        9.2876001e-21, 6.4878724e-21, 7.0001993e-21, 7.3511614e-21,\n",
       "        4.7896092e-21, 5.4507002e-21, 5.9486120e-21, 6.0895167e-21,\n",
       "        4.6990487e-21, 4.4993867e-21, 6.4164457e-21, 6.9167179e-21,\n",
       "        6.6963986e-21, 5.4498690e-21, 7.7903636e-21, 4.1156133e-21,\n",
       "        5.9048191e-21, 8.8217471e-21, 5.2334558e-21, 7.8896236e-21,\n",
       "        4.2148677e-21, 7.8237481e-21, 6.8374144e-21, 8.2266004e-21,\n",
       "        5.6989864e-21, 4.8967610e-21, 5.0378442e-21, 3.6359802e-21,\n",
       "        8.1005418e-21, 4.0291180e-21, 6.7157643e-21, 4.3633515e-21,\n",
       "        5.8276615e-21, 5.2587111e-21, 8.8250454e-21, 4.6388495e-21,\n",
       "        7.5953695e-21, 5.0098258e-21, 6.7636874e-21, 4.7544758e-21,\n",
       "        4.6610573e-21, 6.1764526e-21, 4.3055801e-21, 8.4662364e-21,\n",
       "        6.2910446e-21, 5.8065139e-21, 6.0589768e-21, 5.7797739e-21,\n",
       "        4.1651593e-21, 6.2220223e-21, 6.8371793e-21, 5.0413621e-21,\n",
       "        7.5956013e-21, 4.6762313e-21, 7.9597272e-21, 4.9653051e-21,\n",
       "        5.1998249e-21, 4.2753181e-21, 8.2472120e-21, 4.4881754e-21,\n",
       "        9.4936424e-21, 6.4971596e-21, 4.3798777e-21, 6.0783069e-21]],\n",
       "      dtype=float32)"
      ]
     },
     "execution_count": 88,
     "metadata": {},
     "output_type": "execute_result"
    }
   ],
   "source": [
    "predictionns"
   ]
  },
  {
   "cell_type": "code",
   "execution_count": 89,
   "id": "b3233875-6b17-4a19-860b-5ac45b8c0ca9",
   "metadata": {},
   "outputs": [
    {
     "name": "stdout",
     "output_type": "stream",
     "text": [
      "['Yams']\n"
     ]
    }
   ],
   "source": [
    "predicted_class = np.argmax(predictionns)\n",
    "predicted_crop = label_encoder.inverse_transform([predicted_class])\n",
    "print(predicted_crop)"
   ]
  },
  {
   "cell_type": "code",
   "execution_count": 90,
   "id": "3ffb293d-0d53-4161-975c-ac58ea9d3f03",
   "metadata": {},
   "outputs": [
    {
     "data": {
      "text/plain": [
       "array(['Sweet Banana', 'Groundnuts', 'Matooke', ..., 'Matooke',\n",
       "       'Irish Potato', 'Vanilla'], dtype=object)"
      ]
     },
     "execution_count": 90,
     "metadata": {},
     "output_type": "execute_result"
    }
   ],
   "source": [
    "test_targets"
   ]
  },
  {
   "cell_type": "code",
   "execution_count": 97,
   "id": "77419b63-e5e6-4717-a48b-27e2b0385510",
   "metadata": {},
   "outputs": [
    {
     "name": "stdin",
     "output_type": "stream",
     "text": [
      "Please enter the value of N 100\n",
      "Please enter the value of P 150\n",
      "Please enter the value of K 200\n",
      "Please enter the value of pH 5\n",
      "Please enter the value of EC 3\n",
      "Please enter the value of moisture 60\n"
     ]
    },
    {
     "name": "stderr",
     "output_type": "stream",
     "text": [
      "H:\\Anaconda\\lib\\site-packages\\sklearn\\base.py:450: UserWarning: X does not have valid feature names, but StandardScaler was fitted with feature names\n",
      "  warnings.warn(\n"
     ]
    },
    {
     "name": "stdout",
     "output_type": "stream",
     "text": [
      "[[-2.30279653  6.33960861  3.6175311  -2.00740232  2.67504424 -0.36091184]]\n",
      "[[100.0, 150.0, 200.0, 5.0, 3.0, 60.0]]\n"
     ]
    }
   ],
   "source": [
    "determinants = ['N','P','K','pH','EC','moisture']\n",
    "det_values = [[],]\n",
    "\n",
    "for determinant in determinants:\n",
    "        value = float(input(f'Please enter the value of {determinant}'))\n",
    "        det_values[0].append(value)\n",
    "\n",
    "scaled_query = scaler.transform(det_values)\n",
    "print(scaled_query)\n",
    "print(det_values)"
   ]
  },
  {
   "cell_type": "code",
   "execution_count": 98,
   "id": "5f916abc-1b8d-44ee-9155-d4acd90a4db8",
   "metadata": {},
   "outputs": [
    {
     "name": "stdout",
     "output_type": "stream",
     "text": [
      "1/1 [==============================] - 2s 2s/step\n",
      "['Maize (corn)']\n"
     ]
    }
   ],
   "source": [
    "prediction = model.predict(scaled_query)\n",
    "predicted_class = np.argmax(prediction)\n",
    "predicted_crop = label_encoder.inverse_transform([predicted_class])\n",
    "print(predicted_crop)"
   ]
  },
  {
   "cell_type": "code",
   "execution_count": null,
   "id": "d086c26f-e682-4afa-ba65-22b5204869b3",
   "metadata": {},
   "outputs": [],
   "source": []
  }
 ],
 "metadata": {
  "kernelspec": {
   "display_name": "Python 3 (ipykernel)",
   "language": "python",
   "name": "python3"
  },
  "language_info": {
   "codemirror_mode": {
    "name": "ipython",
    "version": 3
   },
   "file_extension": ".py",
   "mimetype": "text/x-python",
   "name": "python",
   "nbconvert_exporter": "python",
   "pygments_lexer": "ipython3",
   "version": "3.9.13"
  }
 },
 "nbformat": 4,
 "nbformat_minor": 5
}
